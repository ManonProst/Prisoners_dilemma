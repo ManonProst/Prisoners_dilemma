{
 "cells": [
  {
   "cell_type": "code",
   "execution_count": 2,
   "metadata": {},
   "outputs": [],
   "source": [
    "from random import choice"
   ]
  },
  {
   "cell_type": "code",
   "execution_count": null,
   "metadata": {},
   "outputs": [],
   "source": [
    "choice = ['B','C']\n",
    "# B : betrays, C : collude\n",
    "\n",
    "def gain(A,B):\n",
    "    if A=='C' and B=='C':\n",
    "        return (3,3)\n",
    "    elif A=='C' and B=='B':\n",
    "        return (0,5)\n",
    "    elif A=='B' and B=='C':\n",
    "        return (5,0)\n",
    "    elif A=='B' and B=='B':\n",
    "        return (1,1)\n"
   ]
  }
 ],
 "metadata": {
  "kernelspec": {
   "display_name": "Python 3",
   "language": "python",
   "name": "python3"
  },
  "language_info": {
   "codemirror_mode": {
    "name": "ipython",
    "version": 3
   },
   "file_extension": ".py",
   "mimetype": "text/x-python",
   "name": "python",
   "nbconvert_exporter": "python",
   "pygments_lexer": "ipython3",
   "version": "3.7.1"
  }
 },
 "nbformat": 4,
 "nbformat_minor": 2
}
